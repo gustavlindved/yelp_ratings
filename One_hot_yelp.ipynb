{
  "nbformat": 4,
  "nbformat_minor": 0,
  "metadata": {
    "colab": {
      "name": "One_hot_yelp.ipynb",
      "provenance": [],
      "collapsed_sections": []
    },
    "kernelspec": {
      "name": "python3",
      "display_name": "Python 3"
    },
    "accelerator": "GPU"
  },
  "cells": [
    {
      "cell_type": "code",
      "metadata": {
        "id": "Ge38EN4NEjE5",
        "colab_type": "code",
        "outputId": "cd6e9e22-ff6b-40ca-978b-6949fe6bb391",
        "colab": {
          "base_uri": "https://localhost:8080/",
          "height": 80
        }
      },
      "source": [
        "# Import packages\n",
        "import os, re, string, time\n",
        "import pandas as pd\n",
        "import numpy as np\n",
        "from torchtext import data\n",
        "from sklearn.model_selection import train_test_split\n",
        "from keras.preprocessing.sequence import pad_sequences\n",
        "from keras.preprocessing.text import Tokenizer\n",
        "from torchtext.vocab import GloVe\n",
        "import torch\n",
        "from torch.utils.data import DataLoader, TensorDataset\n",
        "import torch.nn as nn\n",
        "from torch.optim.lr_scheduler import StepLR, ReduceLROnPlateau"
      ],
      "execution_count": 0,
      "outputs": [
        {
          "output_type": "stream",
          "text": [
            "Using TensorFlow backend.\n"
          ],
          "name": "stderr"
        },
        {
          "output_type": "display_data",
          "data": {
            "text/html": [
              "<p style=\"color: red;\">\n",
              "The default version of TensorFlow in Colab will soon switch to TensorFlow 2.x.<br>\n",
              "We recommend you <a href=\"https://www.tensorflow.org/guide/migrate\" target=\"_blank\">upgrade</a> now \n",
              "or ensure your notebook will continue to use TensorFlow 1.x via the <code>%tensorflow_version 1.x</code> magic:\n",
              "<a href=\"https://colab.research.google.com/notebooks/tensorflow_version.ipynb\" target=\"_blank\">more info</a>.</p>\n"
            ],
            "text/plain": [
              "<IPython.core.display.HTML object>"
            ]
          },
          "metadata": {
            "tags": []
          }
        }
      ]
    },
    {
      "cell_type": "code",
      "metadata": {
        "id": "Ocp-ZUwHDWS2",
        "colab_type": "code",
        "outputId": "83086990-de9c-4b91-a2a5-ba42fdd46f66",
        "colab": {
          "base_uri": "https://localhost:8080/",
          "height": 238
        }
      },
      "source": [
        "# Mount google drive to colab to import data\n",
        "from google.colab import drive\n",
        "drive.mount('/content/gdrive')\n",
        "\n",
        "os.chdir('gdrive/My Drive/Colab Notebooks/Yelp')\n",
        "!ls"
      ],
      "execution_count": 0,
      "outputs": [
        {
          "output_type": "stream",
          "text": [
            "Drive already mounted at /content/gdrive; to attempt to forcibly remount, call drive.mount(\"/content/gdrive\", force_remount=True).\n",
            "'Copy of One_hot_yelp.ipynb'\n",
            " One_hot_yelp.ipynb\n",
            " Performance.gsheet\n",
            " Running_copy_binary.ipynb\n",
            " yelp_academic_dataset_review_50k.json\n",
            " yelp_academic_dataset_review.json\n",
            " yelp_academic_dataset_review_small.json\n",
            " yelp_academic_dataset_review_very_small.json\n",
            " Yelp_binary.ipynb\n",
            " Yelp_linear_regression.ipynb\n",
            " Yelp_ordinal_approach.ipynb\n",
            " Yelp_rescale.ipynb\n"
          ],
          "name": "stdout"
        }
      ]
    },
    {
      "cell_type": "code",
      "metadata": {
        "id": "ZWYA4_tKEq9G",
        "colab_type": "code",
        "outputId": "aa3ef2e4-9025-44b0-eef6-4030ef187ac7",
        "colab": {
          "base_uri": "https://localhost:8080/",
          "height": 51
        }
      },
      "source": [
        "# Load data\n",
        "df = pd.read_json(path_or_buf='yelp_academic_dataset_review.json',lines=True)\n",
        "\n",
        "# Keep only reviews and score\n",
        "df = df[['stars','text']]\n",
        "\n",
        "# Print size of data\n",
        "print('Number of reviews before trimming:', len(df))\n",
        "\n",
        "# Limit size of data set (to avoid awkward ends)\n",
        "limit = 229000\n",
        "df = df.iloc[0:limit]\n",
        "print('Number of reviews after trimming:', len(df))\n"
      ],
      "execution_count": 0,
      "outputs": [
        {
          "output_type": "stream",
          "text": [
            "Number of reviews before trimming: 229907\n",
            "Number of reviews after trimming: 229000\n"
          ],
          "name": "stdout"
        }
      ]
    },
    {
      "cell_type": "code",
      "metadata": {
        "id": "bcnxeJ7rKNoU",
        "colab_type": "code",
        "colab": {}
      },
      "source": [
        "# Preprocess reviews\n",
        "def preprocess_text(sen):\n",
        "  #Make all lower case\n",
        "  sen = sen.lower()\n",
        "\n",
        "  # Remove digits\n",
        "  sen = re.sub(r'\\d+', '', sen)\n",
        "\n",
        "  # Remove punctuation\n",
        "  sen = sen.translate(str.maketrans('', '', string.punctuation))\n",
        "\n",
        "  # Remove newlines\n",
        "  sen = re.sub(r'\\n', ' ', sen)\n",
        "\n",
        "  return sen\n",
        "  \n",
        "X = []\n",
        "sentences = list(df['text'])\n",
        "for sen in sentences:\n",
        "    X.append(preprocess_text(sen))"
      ],
      "execution_count": 0,
      "outputs": []
    },
    {
      "cell_type": "code",
      "metadata": {
        "id": "dbrfpDpbA_Pj",
        "colab_type": "code",
        "outputId": "5e906650-4e58-41c1-ff0c-9d3af420a4ae",
        "colab": {
          "base_uri": "https://localhost:8080/",
          "height": 279
        }
      },
      "source": [
        "# Examine ratings and make into one-hot encoding\n",
        "scores = np.array(df['stars'])\n",
        "\n",
        "import matplotlib.pyplot as plt\n",
        "%matplotlib inline\n",
        "from matplotlib.ticker import PercentFormatter\n",
        "\n",
        "plt.hist(scores, weights=np.ones(len(scores)) / len(scores))\n",
        "\n",
        "plt.gca().yaxis.set_major_formatter(PercentFormatter(1))\n",
        "plt.xlabel(\"Number of stars\")\n",
        "plt.xticks((1,2,3,4,5) ,('1', '2', '3', '4', '5'))\n",
        "plt.show()\n",
        "\n",
        "#One-hot encoding\n",
        "scores = scores - 1\n",
        "from keras.utils import to_categorical\n",
        "scores = to_categorical(scores)"
      ],
      "execution_count": 0,
      "outputs": [
        {
          "output_type": "display_data",
          "data": {
            "image/png": "[encoded data removed]",
            "text/plain": [
              "<Figure size 432x288 with 1 Axes>"
            ]
          },
          "metadata": {
            "tags": []
          }
        }
      ]
    },
    {
      "cell_type": "code",
      "metadata": {
        "id": "coa9znkMBwp9",
        "colab_type": "code",
        "outputId": "96e78216-825a-46bc-d2c3-20cdccda1c9f",
        "colab": {
          "base_uri": "https://localhost:8080/",
          "height": 68
        }
      },
      "source": [
        "# Split data into train, test and validation\n",
        "X_train, X_test, y_train, y_test = train_test_split(X, scores, test_size=0.20, random_state=42)\n",
        "X_test, X_val, y_test, y_val = train_test_split(X_test, y_test, test_size=0.5, random_state=42)\n",
        "\n",
        "print(\"Size of train data: {}\".format(len(X_train)))\n",
        "print(\"Size of validation data: {}\".format(len(X_val)))\n",
        "print(\"Size of test data: {}\".format(len(X_test)))"
      ],
      "execution_count": 0,
      "outputs": [
        {
          "output_type": "stream",
          "text": [
            "Size of train data: 183200\n",
            "Size of validation data: 22900\n",
            "Size of test data: 22900\n"
          ],
          "name": "stdout"
        }
      ]
    },
    {
      "cell_type": "code",
      "metadata": {
        "id": "SXT2btTkCGP2",
        "colab_type": "code",
        "outputId": "791fbe09-46bd-41d6-e670-cca7c672b611",
        "colab": {
          "base_uri": "https://localhost:8080/",
          "height": 34
        }
      },
      "source": [
        "# Tokenize reviews\n",
        "tokenizer = Tokenizer(num_words=20000)\n",
        "tokenizer.fit_on_texts(X_train)\n",
        "\n",
        "X_train = tokenizer.texts_to_sequences(X_train)\n",
        "X_test = tokenizer.texts_to_sequences(X_test)\n",
        "X_val = tokenizer.texts_to_sequences(X_val)\n",
        "\n",
        "vocab_size = len(tokenizer.word_index) + 1\n",
        "print('Vocab size is', vocab_size) # But we only keep then amount specified in num_words"
      ],
      "execution_count": 0,
      "outputs": [
        {
          "output_type": "stream",
          "text": [
            "Vocab size is 186446\n"
          ],
          "name": "stdout"
        }
      ]
    },
    {
      "cell_type": "code",
      "metadata": {
        "id": "oW03uDyCTyc_",
        "colab_type": "code",
        "outputId": "ba92987c-a648-41ec-82ef-f8482880a2e7",
        "colab": {
          "base_uri": "https://localhost:8080/",
          "height": 432
        }
      },
      "source": [
        "# Check the lengths of reviews (in words)\n",
        "reviews_len = [len(x) for x in X_train]\n",
        "pd.Series(reviews_len).hist()\n",
        "plt.xlabel(\"Length of review\")\n",
        "plt.ylabel(\"Frequency\")\n",
        "plt.show()\n",
        "\n",
        "pd.Series(reviews_len).describe()"
      ],
      "execution_count": 0,
      "outputs": [
        {
          "output_type": "display_data",
          "data": {
            "image/png": "[encoded data removed]",
            "text/plain": [
              "<Figure size 432x288 with 1 Axes>"
            ]
          },
          "metadata": {
            "tags": []
          }
        },
        {
          "output_type": "execute_result",
          "data": {
            "text/plain": [
              "count    183200.000000\n",
              "mean        127.096239\n",
              "std         110.992203\n",
              "min           0.000000\n",
              "25%          52.000000\n",
              "50%          97.000000\n",
              "75%         168.000000\n",
              "max         990.000000\n",
              "dtype: float64"
            ]
          },
          "metadata": {
            "tags": []
          },
          "execution_count": 13
        }
      ]
    },
    {
      "cell_type": "code",
      "metadata": {
        "id": "eqG78oegCRM1",
        "colab_type": "code",
        "colab": {}
      },
      "source": [
        "# Padding\n",
        "maxlen = 200\n",
        "\n",
        "X_train = pad_sequences(X_train, padding='pre', maxlen=maxlen)\n",
        "X_test = pad_sequences(X_test, padding='pre', maxlen=maxlen)\n",
        "X_val = pad_sequences(X_val, padding='pre', maxlen=maxlen)"
      ],
      "execution_count": 0,
      "outputs": []
    },
    {
      "cell_type": "code",
      "metadata": {
        "id": "t3P-eeVZVnDw",
        "colab_type": "code",
        "colab": {}
      },
      "source": [
        "# Create Tensor datasets\n",
        "train_data = TensorDataset(torch.from_numpy(X_train), torch.from_numpy(y_train))\n",
        "valid_data = TensorDataset(torch.from_numpy(X_val), torch.from_numpy(y_val))\n",
        "test_data = TensorDataset(torch.from_numpy(X_test), torch.from_numpy(y_test))\n",
        "\n",
        "# Dataloaders\n",
        "batch_size = 50\n",
        "\n",
        "train_loader = DataLoader(train_data, shuffle=True, batch_size=batch_size)\n",
        "valid_loader = DataLoader(valid_data, shuffle=True, batch_size=batch_size)\n",
        "test_loader = DataLoader(test_data, shuffle=True, batch_size=batch_size)"
      ],
      "execution_count": 0,
      "outputs": []
    },
    {
      "cell_type": "code",
      "metadata": {
        "id": "Hm2StMcMV425",
        "colab_type": "code",
        "outputId": "f9c3d017-926c-446c-b874-699b91bf23c3",
        "colab": {
          "base_uri": "https://localhost:8080/",
          "height": 204
        }
      },
      "source": [
        "# Let's have a look at the input and target\n",
        "dataiter = iter(train_loader)\n",
        "sample_x, sample_y = dataiter.next()\n",
        "print('Sample input size: ', sample_x.size()) # batch_size, seq_length\n",
        "print('Sample input: \\n', sample_x)\n",
        "print()\n",
        "print('Sample label size: ', sample_y.size()) # batch_size\n",
        "#print('Sample label: \\n', sample_y)"
      ],
      "execution_count": 0,
      "outputs": [
        {
          "output_type": "stream",
          "text": [
            "Sample input size:  torch.Size([50, 200])\n",
            "Sample input: \n",
            " tensor([[   0,    0,    0,  ...,  658,  209,  258],\n",
            "        [   0,    0,    0,  ...,    9,    5,   51],\n",
            "        [   0,    0,    0,  ..., 1819,    2,  345],\n",
            "        ...,\n",
            "        [   0,    0,    0,  ..., 5503,    7, 9447],\n",
            "        [7134,    2,    3,  ..., 8062,    5,   37],\n",
            "        [   0,    0,    0,  ...,  779,   72, 1642]], dtype=torch.int32)\n",
            "\n",
            "Sample label size:  torch.Size([50, 5])\n"
          ],
          "name": "stdout"
        }
      ]
    },
    {
      "cell_type": "code",
      "metadata": {
        "id": "CmZKrB9OV46m",
        "colab_type": "code",
        "colab": {}
      },
      "source": [
        "class Net(nn.Module):\n",
        "    def __init__(self, vocab_size, output_size, embedding_dim, hidden_dim, n_layers, drop_prob=0):\n",
        "        super(Net, self).__init__()\n",
        "\n",
        "        self.output_size = output_size\n",
        "        self.n_layers = n_layers\n",
        "        self.hidden_dim = hidden_dim\n",
        "\n",
        "        # embedding and LSTM layers\n",
        "        self.embedding = nn.Embedding(vocab_size, embedding_dim)\n",
        "        self.lstm = nn.LSTM(embedding_dim, hidden_dim, n_layers, dropout=drop_prob, batch_first=True)\n",
        "        #self.lstm = nn.LSTM(embedding_dim, hidden_dim, n_layers, batch_first=True)\n",
        "        # dropout layer\n",
        "        self.dropout = nn.Dropout(0.3)\n",
        "        \n",
        "        # linear and sigmoid layers\n",
        "        self.fc = nn.Linear(hidden_dim, output_size)\n",
        "        self.sig = nn.Sigmoid()\n",
        "\n",
        "    def forward(self, x, hidden):\n",
        "        x = x.cuda()\n",
        "        # embeddings and lstm_out\n",
        "        embeds = self.embedding(x)\n",
        "        lstm_out, hidden = self.lstm(embeds, hidden)\n",
        "    \n",
        "        # stack up lstm outputs\n",
        "        lstm_out = lstm_out.contiguous().view(-1, self.hidden_dim)\n",
        "        \n",
        "        # dropout and fully-connected layer\n",
        "        out = self.dropout(lstm_out)\n",
        "        out = self.fc(out)\n",
        "\n",
        "        # sigmoid function\n",
        "        sig_out = self.sig(out)\n",
        "        \n",
        "        # reshape to be batch_size first\n",
        "        sig_out = sig_out.view(batch_size,maxlen,-1)\n",
        "        \n",
        "        sig_out = sig_out[:, -1] # get last batch of labels\n",
        "        \n",
        "        # return last sigmoid output and hidden state\n",
        "        return sig_out, hidden\n",
        "\n",
        "\n",
        "    def init_hidden(self, batch_size):\n",
        "        ''' Initializes hidden state '''\n",
        "        # Create two new tensors with sizes n_layers x batch_size x hidden_dim,\n",
        "        # initialized to zero, for hidden state and cell state of LSTM\n",
        "        weight = next(self.parameters()).data\n",
        "        \n",
        "        if (train_on_gpu):\n",
        "            hidden = (weight.new(self.n_layers, batch_size, self.hidden_dim).zero_().cuda(),\n",
        "                  weight.new(self.n_layers, batch_size, self.hidden_dim).zero_().cuda())\n",
        "        else:\n",
        "            hidden = (weight.new(self.n_layers, batch_size, self.hidden_dim).zero_(),\n",
        "                      weight.new(self.n_layers, batch_size, self.hidden_dim).zero_())\n",
        "        \n",
        "        return hidden\n"
      ],
      "execution_count": 0,
      "outputs": []
    },
    {
      "cell_type": "code",
      "metadata": {
        "id": "pWTPKikqY70c",
        "colab_type": "code",
        "outputId": "969c253e-7fad-44a4-8b89-1369981f8d53",
        "colab": {
          "base_uri": "https://localhost:8080/",
          "height": 136
        }
      },
      "source": [
        "# Hyperparameters and initialization of model\n",
        "output_size = 5\n",
        "embedding_dim = 512\n",
        "hidden_dim = 512\n",
        "n_layers = 1\n",
        "net = Net(vocab_size, output_size, embedding_dim, hidden_dim, n_layers)\n",
        "print(net)"
      ],
      "execution_count": 0,
      "outputs": [
        {
          "output_type": "stream",
          "text": [
            "Net(\n",
            "  (embedding): Embedding(186446, 512)\n",
            "  (lstm): LSTM(512, 512, batch_first=True)\n",
            "  (dropout): Dropout(p=0.3, inplace=False)\n",
            "  (fc): Linear(in_features=512, out_features=5, bias=True)\n",
            "  (sig): Sigmoid()\n",
            ")\n"
          ],
          "name": "stdout"
        }
      ]
    },
    {
      "cell_type": "code",
      "metadata": {
        "id": "XDAQdTX6DXwG",
        "colab_type": "code",
        "outputId": "6172f321-e1ec-4672-8d71-e275689c02c3",
        "colab": {
          "base_uri": "https://localhost:8080/",
          "height": 1000
        }
      },
      "source": [
        "# loss and optimization functions\n",
        "lr=0.0005\n",
        "\n",
        "criterion = nn.BCELoss()\n",
        "optimizer = torch.optim.Adam(net.parameters(), lr=lr, weight_decay=1e-5)\n",
        "\n",
        "# Add learning rate decay\n",
        "#scheduler = StepLR(optimizer, step_size=10, gamma=0.5)\n",
        "scheduler = ReduceLROnPlateau(optimizer, mode='min', factor=0.1, patience=3, verbose=True)\n",
        "\n",
        "# training params\n",
        "epochs = 9 # 3-4 is approx where I noticed the validation loss stop decreasing\n",
        "\n",
        "print_every = 1000\n",
        "clip=5 # gradient clipping\n",
        "\n",
        "train_on_gpu = torch.cuda.is_available()\n",
        "# move model to GPU, if available\n",
        "if(train_on_gpu):\n",
        "    net.cuda()\n",
        "\n",
        "# Track loss\n",
        "training_loss, validation_loss = [], []\n",
        "loss_list = []\n",
        "\n",
        "start_time = time.time()\n",
        "net.train()\n",
        "# train for some number of epochs\n",
        "for e in range(epochs):\n",
        "\n",
        "    # Track loss\n",
        "    epoch_training_loss = 0\n",
        "    epoch_validation_loss = 0\n",
        "\n",
        "    # For validation set\n",
        "    val_h = net.init_hidden(batch_size)\n",
        "    val_losses = []\n",
        "    net.eval()\n",
        "    for inputs, labels in valid_loader:\n",
        "\n",
        "        # Creating new variables for the hidden state\n",
        "        val_h = tuple([each.data for each in val_h])\n",
        "\n",
        "        if(train_on_gpu):\n",
        "            inputs, labels = inputs.cuda(), labels.cuda()\n",
        "\n",
        "        inputs = inputs.type(torch.LongTensor)\n",
        "        output, val_h = net(inputs, val_h)\n",
        "\n",
        "        val_loss = criterion(output.squeeze(), labels.float())\n",
        "\n",
        "        epoch_validation_loss += val_loss.detach().cpu().data.numpy()\n",
        "    \n",
        "    net.train()\n",
        "\n",
        "    # initialize hidden state\n",
        "    h = net.init_hidden(batch_size)\n",
        "\n",
        "    # For each review in training set\n",
        "    counter = 0\n",
        "    for inputs, labels in train_loader:\n",
        "        counter += 1\n",
        "        if counter % print_every == 0:\n",
        "            print(counter,\"Train\")\n",
        "\n",
        "        if(train_on_gpu):\n",
        "            inputs = inputs.cuda()\n",
        "            labels = labels.cuda()\n",
        "\n",
        "        # Creating new variables for the hidden state\n",
        "        h = tuple([each.data for each in h])\n",
        "\n",
        "        # zero accumulated gradients\n",
        "        net.zero_grad()\n",
        "\n",
        "        # get the output from the model\n",
        "        inputs = inputs.type(torch.LongTensor)\n",
        "        output, h = net(inputs, h)\n",
        "\n",
        "        # calculate the loss and perform backprop\n",
        "        loss = criterion(output.squeeze(), labels.float())\n",
        "        loss.backward()\n",
        "        # `clip_grad_norm` helps prevent the exploding gradient problem\n",
        "        nn.utils.clip_grad_norm_(net.parameters(), clip)\n",
        "        optimizer.step()\n",
        "\n",
        "        #Save loss\n",
        "        epoch_training_loss += loss.detach().cpu().data.numpy()\n",
        "\n",
        "    print('Epoch: ', e+1)\n",
        "    print('Time elapsed:', (time.time() - start_time)/60, 'minutes')\n",
        "    print('training loss:', epoch_training_loss / len(train_data)) # Divided by number of batches\n",
        "    print('validation loss:', epoch_validation_loss / len(valid_data))\n",
        "\n",
        "    scheduler.step(val_loss)\n",
        "\n",
        "    # Save loss for plot\n",
        "    training_loss.append(epoch_training_loss / len(train_data))\n",
        "    validation_loss.append(epoch_validation_loss / len(valid_data))\n",
        "\n",
        "# Plot training and validation loss of training and validation batches\n",
        "epoch = np.arange(len(training_loss))\n",
        "plt.figure()\n",
        "plt.plot(epoch, training_loss, 'r', label='Training loss',)\n",
        "plt.plot(epoch, validation_loss, 'b', label='Validation loss')\n",
        "plt.legend()\n",
        "plt.xlabel('Epoch'), plt.ylabel('loss')\n",
        "plt.show()"
      ],
      "execution_count": 0,
      "outputs": [
        {
          "output_type": "stream",
          "text": [
            "1000 Train\n",
            "2000 Train\n",
            "3000 Train\n",
            "Epoch:  1\n",
            "Time elapsed: 3.9256838083267214 minutes\n",
            "training loss: 0.007059185091471178\n",
            "validation loss: 0.014029917438477929\n",
            "1000 Train\n",
            "2000 Train\n",
            "3000 Train\n",
            "Epoch:  2\n",
            "Time elapsed: 7.863744513193766 minutes\n",
            "training loss: 0.006255598050912264\n",
            "validation loss: 0.006431848383366281\n",
            "1000 Train\n",
            "2000 Train\n",
            "3000 Train\n",
            "Epoch:  3\n",
            "Time elapsed: 11.806260935465495 minutes\n",
            "training loss: 0.006032064582941053\n",
            "validation loss: 0.006299225579963501\n",
            "1000 Train\n",
            "2000 Train\n",
            "3000 Train\n",
            "Epoch:  4\n",
            "Time elapsed: 15.75526260137558 minutes\n",
            "training loss: 0.0058689390787423695\n",
            "validation loss: 0.006244223345575374\n",
            "1000 Train\n",
            "2000 Train\n",
            "3000 Train\n",
            "Epoch:  5\n",
            "Time elapsed: 19.71751786470413 minutes\n",
            "training loss: 0.005716235090909306\n",
            "validation loss: 0.006126466646595293\n",
            "1000 Train\n",
            "2000 Train\n",
            "3000 Train\n",
            "Epoch:  6\n",
            "Time elapsed: 23.63071174621582 minutes\n",
            "training loss: 0.005569046550881785\n",
            "validation loss: 0.006056348633948372\n",
            "1000 Train\n",
            "2000 Train\n",
            "3000 Train\n",
            "Epoch:  7\n",
            "Time elapsed: 27.565089162190755 minutes\n",
            "training loss: 0.00538846130503187\n",
            "validation loss: 0.006053994280412207\n",
            "1000 Train\n",
            "2000 Train\n",
            "3000 Train\n",
            "Epoch:  8\n",
            "Time elapsed: 31.497539460659027 minutes\n",
            "training loss: 0.005187439557132372\n",
            "validation loss: 0.006109467979081333\n",
            "1000 Train\n",
            "2000 Train\n",
            "3000 Train\n",
            "Epoch:  9\n",
            "Time elapsed: 35.43301877975464 minutes\n",
            "training loss: 0.004927278371064163\n",
            "validation loss: 0.006211936287744597\n"
          ],
          "name": "stdout"
        },
        {
          "output_type": "display_data",
          "data": {
            "image/png": "[encoded data removed]",
            "text/plain": [
              "<Figure size 432x288 with 1 Axes>"
            ]
          },
          "metadata": {
            "tags": []
          }
        }
      ]
    },
    {
      "cell_type": "code",
      "metadata": {
        "id": "9nKv94OBYyXN",
        "colab_type": "code",
        "outputId": "666e1859-99e4-4731-9690-2981dad8c2fd",
        "colab": {
          "base_uri": "https://localhost:8080/",
          "height": 68
        }
      },
      "source": [
        "# Get test data loss and accuracy\n",
        "from sklearn.metrics import accuracy_score\n",
        "\n",
        "test_losses = [] # track loss\n",
        "pred_list = []\n",
        "correct_list = []\n",
        "\n",
        "# init hidden state\n",
        "h = net.init_hidden(batch_size)\n",
        "\n",
        "net.eval()\n",
        "# iterate over test data\n",
        "for inputs, labels in test_loader:\n",
        "\n",
        "    # Creating new variables for the hidden state\n",
        "    h = tuple([each.data for each in h])\n",
        "\n",
        "    if(train_on_gpu):\n",
        "        inputs, labels = inputs.cuda(), labels.cuda()\n",
        "    \n",
        "    # get predicted outputs\n",
        "    inputs = inputs.type(torch.LongTensor)\n",
        "    output, h = net(inputs, h)\n",
        "    \n",
        "    # calculate loss\n",
        "    test_loss = criterion(output.squeeze(), labels.float())\n",
        "    test_losses.append(test_loss.item())\n",
        "    \n",
        "    # convert output to rating\n",
        "    output_array = output.cpu().data.numpy()\n",
        "    pred = np.argmax(output_array, axis=1) + 1 # rounds to the nearest integer\n",
        "    pred_list = np.concatenate((pred_list, pred))\n",
        "    \n",
        "    # compare predictions to true label\n",
        "    label_array = labels.cpu().data.numpy()\n",
        "    correct = np.argmax(label_array, axis=1) + 1# rounds to the nearest integer\n",
        "    correct_list = np.concatenate((correct_list, correct))\n",
        "\n",
        "# -- stats! -- ##\n",
        "# avg test loss\n",
        "print(\"Test loss: {:.3f}\".format(np.mean(test_losses)))\n",
        "\n",
        "# accuracy over all test data\n",
        "test_acc = accuracy_score(correct_list,pred_list)\n",
        "print(\"Test accuracy: {:.3f}\".format(test_acc))\n",
        "\n",
        "# accuracy when tolerating a difference of 1\n",
        "diff = correct_list - pred_list\n",
        "test_acc_oneoff = sum(np.absolute(diff) < 2) / len(diff)\n",
        "print(\"Test accuracy: {:.3f}\".format(test_acc_oneoff))"
      ],
      "execution_count": 0,
      "outputs": [
        {
          "output_type": "stream",
          "text": [
            "Test loss: 0.306\n",
            "Test accuracy: 0.617\n",
            "Test accuracy: 0.958\n"
          ],
          "name": "stdout"
        }
      ]
    },
    {
      "cell_type": "code",
      "metadata": {
        "id": "Rm66NWllJWpH",
        "colab_type": "code",
        "outputId": "8731655e-c364-4795-c24d-4ae1a422dfe5",
        "colab": {
          "base_uri": "https://localhost:8080/",
          "height": 34
        }
      },
      "source": [
        "# Test on custom reviews\n",
        "test_review = 'If you are looking for food poisoning this is the perfect place to be'\n",
        "\n",
        "test_review = preprocess_text(test_review)\n",
        "test_review = tokenizer.texts_to_sequences([test_review])\n",
        "test_review = pad_sequences(test_review, padding='pre', maxlen=maxlen)\n",
        "\n",
        "feature_tensor = torch.tensor(test_review).to(torch.int64)\n",
        "\n",
        "batch_size = feature_tensor.size(0)\n",
        "\n",
        "# initialize hidden state\n",
        "h = net.init_hidden(batch_size)\n",
        "net.eval()\n",
        "\n",
        "h = tuple([each.data for each in h])\n",
        "\n",
        "if(train_on_gpu):\n",
        "    inputs = feature_tensor.cuda()\n",
        "    \n",
        "# get the output from the model\n",
        "output, h = net(inputs, h)\n",
        "\n",
        "output_array = output.cpu().data.numpy()\n",
        "pred = np.argmax(output_array, axis=1) + 1 # rounds to the nearest integer\n",
        "\n",
        "print('Predicted rating:', pred)"
      ],
      "execution_count": 0,
      "outputs": [
        {
          "output_type": "stream",
          "text": [
            "Predicted rating: [5]\n"
          ],
          "name": "stdout"
        }
      ]
    }
  ]
}
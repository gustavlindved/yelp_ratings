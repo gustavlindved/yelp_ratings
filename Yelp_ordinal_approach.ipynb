{
  "nbformat": 4,
  "nbformat_minor": 0,
  "metadata": {
    "colab": {
      "name": "Yelp_ordinal_approach.ipynb",
      "provenance": [],
      "collapsed_sections": []
    },
    "kernelspec": {
      "name": "python3",
      "display_name": "Python 3"
    },
    "accelerator": "GPU"
  },
  "cells": [
    {
      "cell_type": "code",
      "metadata": {
        "id": "Ge38EN4NEjE5",
        "colab_type": "code",
        "outputId": "3412aed2-8902-4540-eef5-1634381d77c6",
        "colab": {
          "base_uri": "https://localhost:8080/",
          "height": 80
        }
      },
      "source": [
        "# Import packages\n",
        "import os, re, string\n",
        "import pandas as pd\n",
        "import numpy as np\n",
        "from torchtext import data\n",
        "from sklearn.model_selection import train_test_split\n",
        "from keras.preprocessing.sequence import pad_sequences\n",
        "from keras.preprocessing.text import Tokenizer\n",
        "from torchtext.vocab import GloVe\n",
        "import torch\n",
        "from torch.utils.data import DataLoader, TensorDataset\n",
        "import torch.nn as nn\n",
        "from torch.optim.lr_scheduler import StepLR, ReduceLROnPlateau"
      ],
      "execution_count": 0,
      "outputs": [
        {
          "output_type": "stream",
          "text": [
            "Using TensorFlow backend.\n"
          ],
          "name": "stderr"
        },
        {
          "output_type": "display_data",
          "data": {
            "text/html": [
              "<p style=\"color: red;\">\n",
              "The default version of TensorFlow in Colab will soon switch to TensorFlow 2.x.<br>\n",
              "We recommend you <a href=\"https://www.tensorflow.org/guide/migrate\" target=\"_blank\">upgrade</a> now \n",
              "or ensure your notebook will continue to use TensorFlow 1.x via the <code>%tensorflow_version 1.x</code> magic:\n",
              "<a href=\"https://colab.research.google.com/notebooks/tensorflow_version.ipynb\" target=\"_blank\">more info</a>.</p>\n"
            ],
            "text/plain": [
              "<IPython.core.display.HTML object>"
            ]
          },
          "metadata": {
            "tags": []
          }
        }
      ]
    },
    {
      "cell_type": "code",
      "metadata": {
        "id": "Ocp-ZUwHDWS2",
        "colab_type": "code",
        "outputId": "1aaa4f0b-55d8-4964-c9a0-2f63b903e09c",
        "colab": {
          "base_uri": "https://localhost:8080/",
          "height": 326
        }
      },
      "source": [
        "# Mount google drive to colab to import data\n",
        "from google.colab import drive\n",
        "drive.mount('/content/gdrive')\n",
        "\n",
        "os.chdir('gdrive/My Drive/Colab Notebooks/Yelp')\n",
        "!ls"
      ],
      "execution_count": 0,
      "outputs": [
        {
          "output_type": "stream",
          "text": [
            "Go to this URL in a browser: https://accounts.google.com/o/oauth2/auth?client_id=947318989803-6bn6qk8qdgf4n4g3pfee6491hc0brc4i.apps.googleusercontent.com&redirect_uri=urn%3aietf%3awg%3aoauth%3a2.0%3aoob&response_type=code&scope=email%20https%3a%2f%2fwww.googleapis.com%2fauth%2fdocs.test%20https%3a%2f%2fwww.googleapis.com%2fauth%2fdrive%20https%3a%2f%2fwww.googleapis.com%2fauth%2fdrive.photos.readonly%20https%3a%2f%2fwww.googleapis.com%2fauth%2fpeopleapi.readonly\n",
            "\n",
            "Enter your authorization code:\n",
            "··········\n",
            "Mounted at /content/gdrive\n",
            "'Copy of One_hot_yelp.ipynb'\n",
            " One_hot_yelp.ipynb\n",
            " Performance.gsheet\n",
            " Running_copy_binary.ipynb\n",
            " yelp_academic_dataset_review_50k.json\n",
            " yelp_academic_dataset_review.json\n",
            " yelp_academic_dataset_review_small.json\n",
            " yelp_academic_dataset_review_very_small.json\n",
            " Yelp_binary.ipynb\n",
            " Yelp_linear_regression.ipynb\n",
            " Yelp_ordinal_approach.ipynb\n",
            " Yelp_rescale.ipynb\n"
          ],
          "name": "stdout"
        }
      ]
    },
    {
      "cell_type": "code",
      "metadata": {
        "id": "ZWYA4_tKEq9G",
        "colab_type": "code",
        "outputId": "a3b78c34-1560-49d1-901a-81537ef6613b",
        "colab": {
          "base_uri": "https://localhost:8080/",
          "height": 51
        }
      },
      "source": [
        "# Load data\n",
        "df = pd.read_json(path_or_buf='yelp_academic_dataset_review.json',lines=True)\n",
        "\n",
        "# Keep only reviews and score\n",
        "df = df[['stars','text']]\n",
        "\n",
        "# Print size of data\n",
        "print('Number of reviews before trimming:', len(df))\n",
        "\n",
        "# Limit size of data set (to avoid awkward ends)\n",
        "limit = 228000\n",
        "df = df.iloc[0:limit]\n",
        "print('Number of reviews after trimming:', len(df))\n"
      ],
      "execution_count": 0,
      "outputs": [
        {
          "output_type": "stream",
          "text": [
            "Number of reviews before trimming: 229907\n",
            "Number of reviews after trimming: 228000\n"
          ],
          "name": "stdout"
        }
      ]
    },
    {
      "cell_type": "code",
      "metadata": {
        "id": "bcnxeJ7rKNoU",
        "colab_type": "code",
        "colab": {}
      },
      "source": [
        "# Preprocess reviews\n",
        "def preprocess_text(sen):\n",
        "  #Make all lower case\n",
        "  sen = sen.lower()\n",
        "\n",
        "  # Remove digits\n",
        "  sen = re.sub(r'\\d+', '', sen)\n",
        "\n",
        "  # Remove punctuation\n",
        "  sen = sen.translate(str.maketrans('', '', string.punctuation))\n",
        "\n",
        "  # Remove newlines\n",
        "  sen = re.sub(r'\\n', ' ', sen)\n",
        "\n",
        "  return sen\n",
        "  \n",
        "X = []\n",
        "sentences = list(df['text'])\n",
        "for sen in sentences:\n",
        "    X.append(preprocess_text(sen))"
      ],
      "execution_count": 0,
      "outputs": []
    },
    {
      "cell_type": "code",
      "metadata": {
        "id": "x8bdXMLaKNza",
        "colab_type": "code",
        "outputId": "7785c063-8ff9-4080-ef6d-6cff14952de9",
        "colab": {
          "base_uri": "https://localhost:8080/",
          "height": 279
        }
      },
      "source": [
        "# Examine ratings and make into ordinal coding\n",
        "\n",
        "scores = np.array(df['stars'])\n",
        "\n",
        "# Plot distribution\n",
        "import matplotlib.pyplot as plt\n",
        "%matplotlib inline\n",
        "from matplotlib.ticker import PercentFormatter\n",
        "\n",
        "plt.hist(scores, weights=np.ones(len(scores)) / len(scores))\n",
        "plt.gca().yaxis.set_major_formatter(PercentFormatter(1))\n",
        "plt.xlabel(\"Number of stars\")\n",
        "plt.xticks((1,2,3,4,5) ,('1', '2', '3', '4', '5'))\n",
        "\n",
        "plt.show()\n",
        "\n",
        "# Ordinal targets - Example: 3 = [1, 1, 0, 0]\n",
        "def transform_targets(target):\n",
        "  target_array = np.zeros(4)\n",
        "  target_array[0:target-1] = 1\n",
        "\n",
        "  return target_array\n",
        "\n",
        "scores_list = []\n",
        "for target in scores:\n",
        "  scores_list.append(transform_targets(target))\n",
        "\n",
        "scores = np.array(scores_list)"
      ],
      "execution_count": 0,
      "outputs": [
        {
          "output_type": "display_data",
          "data": {
            "image/png": "[encoded data removed]",
            "text/plain": [
              "<Figure size 432x288 with 1 Axes>"
            ]
          },
          "metadata": {
            "tags": []
          }
        }
      ]
    },
    {
      "cell_type": "code",
      "metadata": {
        "id": "coa9znkMBwp9",
        "colab_type": "code",
        "outputId": "50308567-6a3b-4025-f805-9848b995898f",
        "colab": {
          "base_uri": "https://localhost:8080/",
          "height": 68
        }
      },
      "source": [
        "# Split data into train, test and validation\n",
        "X_train, X_test, y_train, y_test = train_test_split(X, scores, test_size=0.20, random_state=42)\n",
        "X_test, X_val, y_test, y_val = train_test_split(X_test, y_test, test_size=0.5, random_state=42)\n",
        "\n",
        "print(\"Size of train data: {}\".format(len(X_train)))\n",
        "print(\"Size of validation data: {}\".format(len(X_val)))\n",
        "print(\"Size of test data: {}\".format(len(X_test)))"
      ],
      "execution_count": 0,
      "outputs": [
        {
          "output_type": "stream",
          "text": [
            "Size of train data: 182400\n",
            "Size of validation data: 22800\n",
            "Size of test data: 22800\n"
          ],
          "name": "stdout"
        }
      ]
    },
    {
      "cell_type": "code",
      "metadata": {
        "id": "SXT2btTkCGP2",
        "colab_type": "code",
        "outputId": "a57129dc-a89f-499f-f4ee-bfb28436dd09",
        "colab": {
          "base_uri": "https://localhost:8080/",
          "height": 34
        }
      },
      "source": [
        "# Tokenize reviews\n",
        "tokenizer = Tokenizer(num_words=20000)\n",
        "tokenizer.fit_on_texts(X_train)\n",
        "\n",
        "X_train = tokenizer.texts_to_sequences(X_train)\n",
        "X_test = tokenizer.texts_to_sequences(X_test)\n",
        "X_val = tokenizer.texts_to_sequences(X_val)\n",
        "\n",
        "vocab_size = len(tokenizer.word_index) + 1\n",
        "print('Vocab size is', vocab_size) # But we only keep then amount specified in num_words"
      ],
      "execution_count": 0,
      "outputs": [
        {
          "output_type": "stream",
          "text": [
            "Vocab size is 185873\n"
          ],
          "name": "stdout"
        }
      ]
    },
    {
      "cell_type": "code",
      "metadata": {
        "id": "oW03uDyCTyc_",
        "colab_type": "code",
        "outputId": "52bbe4f5-f03f-49df-e1f8-2989daee680f",
        "colab": {
          "base_uri": "https://localhost:8080/",
          "height": 432
        }
      },
      "source": [
        "# Check the lengths of reviews (in words)\n",
        "reviews_len = [len(x) for x in X_train]\n",
        "pd.Series(reviews_len).hist()\n",
        "plt.xlabel(\"Length of review\")\n",
        "plt.ylabel(\"Frequency\")\n",
        "plt.show()\n",
        "\n",
        "pd.Series(reviews_len).describe()"
      ],
      "execution_count": 0,
      "outputs": [
        {
          "output_type": "display_data",
          "data": {
            "image/png": "[encoded data removed]",
            "text/plain": [
              "<Figure size 432x288 with 1 Axes>"
            ]
          },
          "metadata": {
            "tags": []
          }
        },
        {
          "output_type": "execute_result",
          "data": {
            "text/plain": [
              "count    182400.00000\n",
              "mean        127.12006\n",
              "std         110.93852\n",
              "min           0.00000\n",
              "25%          52.00000\n",
              "50%          97.00000\n",
              "75%         168.00000\n",
              "max         990.00000\n",
              "dtype: float64"
            ]
          },
          "metadata": {
            "tags": []
          },
          "execution_count": 8
        }
      ]
    },
    {
      "cell_type": "code",
      "metadata": {
        "id": "eqG78oegCRM1",
        "colab_type": "code",
        "colab": {}
      },
      "source": [
        "# Padding\n",
        "maxlen = 200\n",
        "\n",
        "X_train = pad_sequences(X_train, padding='pre', maxlen=maxlen)\n",
        "X_test = pad_sequences(X_test, padding='pre', maxlen=maxlen)\n",
        "X_val = pad_sequences(X_val, padding='pre', maxlen=maxlen)"
      ],
      "execution_count": 0,
      "outputs": []
    },
    {
      "cell_type": "code",
      "metadata": {
        "id": "t3P-eeVZVnDw",
        "colab_type": "code",
        "colab": {}
      },
      "source": [
        "# Create Tensor datasets\n",
        "train_data = TensorDataset(torch.from_numpy(X_train), torch.from_numpy(y_train))\n",
        "valid_data = TensorDataset(torch.from_numpy(X_val), torch.from_numpy(y_val))\n",
        "test_data = TensorDataset(torch.from_numpy(X_test), torch.from_numpy(y_test))\n",
        "\n",
        "# Dataloaders\n",
        "batch_size = 50\n",
        "\n",
        "train_loader = DataLoader(train_data, shuffle=True, batch_size=batch_size)\n",
        "valid_loader = DataLoader(valid_data, shuffle=True, batch_size=batch_size)\n",
        "test_loader = DataLoader(test_data, shuffle=True, batch_size=batch_size)"
      ],
      "execution_count": 0,
      "outputs": []
    },
    {
      "cell_type": "code",
      "metadata": {
        "id": "Hm2StMcMV425",
        "colab_type": "code",
        "outputId": "0d5c124f-6edb-451a-abf4-2f62854cab75",
        "colab": {
          "base_uri": "https://localhost:8080/",
          "height": 1000
        }
      },
      "source": [
        "# Let's have a look at the input and target\n",
        "dataiter = iter(train_loader)\n",
        "sample_x, sample_y = dataiter.next()\n",
        "print('Sample input size: ', sample_x.size()) # batch_size, seq_length\n",
        "print('Sample input: \\n', sample_x)\n",
        "print()\n",
        "print('Sample label size: ', sample_y.size()) # batch_size\n",
        "print('Sample label: \\n', sample_y)"
      ],
      "execution_count": 0,
      "outputs": [
        {
          "output_type": "stream",
          "text": [
            "Sample input size:  torch.Size([50, 200])\n",
            "Sample input: \n",
            " tensor([[   0,    0,    0,  ...,  256,   16,   28],\n",
            "        [   0,    0,    0,  ...,  160,  837, 7997],\n",
            "        [   0,    0,    0,  ...,   32,    4,  101],\n",
            "        ...,\n",
            "        [3990,   50,   21,  ...,    1,  331,  292],\n",
            "        [   0,    0,    0,  ...,  106,  318,   10],\n",
            "        [   0,    0,    0,  ...,  462, 2427, 4242]], dtype=torch.int32)\n",
            "\n",
            "Sample label size:  torch.Size([50, 4])\n",
            "Sample label: \n",
            " tensor([[1., 1., 1., 0.],\n",
            "        [1., 1., 1., 0.],\n",
            "        [1., 1., 0., 0.],\n",
            "        [1., 1., 0., 0.],\n",
            "        [1., 1., 1., 0.],\n",
            "        [1., 1., 1., 0.],\n",
            "        [1., 1., 1., 1.],\n",
            "        [1., 1., 1., 1.],\n",
            "        [1., 1., 1., 1.],\n",
            "        [1., 0., 0., 0.],\n",
            "        [1., 0., 0., 0.],\n",
            "        [1., 1., 0., 0.],\n",
            "        [1., 1., 1., 1.],\n",
            "        [1., 1., 0., 0.],\n",
            "        [1., 1., 1., 0.],\n",
            "        [1., 1., 0., 0.],\n",
            "        [1., 1., 1., 1.],\n",
            "        [1., 0., 0., 0.],\n",
            "        [1., 1., 0., 0.],\n",
            "        [1., 1., 1., 1.],\n",
            "        [1., 1., 1., 1.],\n",
            "        [1., 1., 1., 0.],\n",
            "        [1., 1., 1., 1.],\n",
            "        [1., 1., 1., 0.],\n",
            "        [1., 1., 1., 0.],\n",
            "        [1., 0., 0., 0.],\n",
            "        [1., 1., 1., 1.],\n",
            "        [1., 1., 1., 1.],\n",
            "        [1., 1., 0., 0.],\n",
            "        [1., 0., 0., 0.],\n",
            "        [1., 1., 1., 1.],\n",
            "        [1., 1., 0., 0.],\n",
            "        [1., 1., 1., 1.],\n",
            "        [1., 1., 0., 0.],\n",
            "        [1., 1., 0., 0.],\n",
            "        [1., 1., 1., 0.],\n",
            "        [1., 1., 1., 1.],\n",
            "        [1., 1., 1., 0.],\n",
            "        [1., 1., 1., 1.],\n",
            "        [1., 1., 1., 1.],\n",
            "        [1., 1., 1., 1.],\n",
            "        [1., 0., 0., 0.],\n",
            "        [1., 0., 0., 0.],\n",
            "        [1., 1., 1., 1.],\n",
            "        [1., 1., 1., 1.],\n",
            "        [1., 1., 1., 1.],\n",
            "        [1., 1., 1., 0.],\n",
            "        [1., 1., 1., 0.],\n",
            "        [1., 1., 1., 1.],\n",
            "        [1., 1., 1., 1.]], dtype=torch.float64)\n"
          ],
          "name": "stdout"
        }
      ]
    },
    {
      "cell_type": "code",
      "metadata": {
        "id": "CmZKrB9OV46m",
        "colab_type": "code",
        "colab": {}
      },
      "source": [
        "# Define network\n",
        "\n",
        "class Net(nn.Module):\n",
        "    def __init__(self, vocab_size, output_size, embedding_dim, hidden_dim, n_layers, drop_prob=0):\n",
        "        super(Net, self).__init__()\n",
        "\n",
        "        self.output_size = output_size\n",
        "        self.n_layers = n_layers\n",
        "        self.hidden_dim = hidden_dim\n",
        "\n",
        "        # embedding and LSTM layers\n",
        "        self.embedding = nn.Embedding(vocab_size, embedding_dim)\n",
        "        self.lstm = nn.LSTM(embedding_dim, hidden_dim, n_layers, dropout=drop_prob, batch_first=True)\n",
        "\n",
        "        # dropout layer\n",
        "        self.dropout = nn.Dropout(0.3)\n",
        "        \n",
        "        # linear and sigmoid layers\n",
        "        self.fc = nn.Linear(hidden_dim, output_size)\n",
        "        self.sig = nn.Sigmoid()\n",
        "\n",
        "    def forward(self, x, hidden):\n",
        "        x = x.cuda()\n",
        "        \n",
        "        # embeddings and lstm_out\n",
        "        embeds = self.embedding(x)\n",
        "        lstm_out, hidden = self.lstm(embeds, hidden)\n",
        "    \n",
        "        # stack up lstm outputs\n",
        "        lstm_out = lstm_out.contiguous().view(-1, self.hidden_dim)\n",
        "        \n",
        "        # dropout and fully-connected layer\n",
        "        out = self.dropout(lstm_out)\n",
        "        out = self.fc(out)\n",
        "\n",
        "        # sigmoid function\n",
        "        sig_out = self.sig(out)\n",
        "        \n",
        "        # reshape to be batch_size first\n",
        "        sig_out = sig_out.view(batch_size,maxlen,-1)\n",
        "        \n",
        "        sig_out = sig_out[:, -1] # get last batch of labels\n",
        "        \n",
        "        # return last sigmoid output and hidden state\n",
        "        return sig_out, hidden\n",
        "\n",
        "\n",
        "    def init_hidden(self, batch_size):\n",
        "        ''' Initializes hidden state '''\n",
        "        # Create two new tensors with sizes n_layers x batch_size x hidden_dim,\n",
        "        # initialized to zero, for hidden state and cell state of LSTM\n",
        "        weight = next(self.parameters()).data\n",
        "        \n",
        "        if (train_on_gpu):\n",
        "            hidden = (weight.new(self.n_layers, batch_size, self.hidden_dim).zero_().cuda(),\n",
        "                  weight.new(self.n_layers, batch_size, self.hidden_dim).zero_().cuda())\n",
        "        else:\n",
        "            hidden = (weight.new(self.n_layers, batch_size, self.hidden_dim).zero_(),\n",
        "                      weight.new(self.n_layers, batch_size, self.hidden_dim).zero_())\n",
        "        \n",
        "        return hidden\n"
      ],
      "execution_count": 0,
      "outputs": []
    },
    {
      "cell_type": "code",
      "metadata": {
        "id": "pWTPKikqY70c",
        "colab_type": "code",
        "outputId": "0ad4b7fe-02a9-4f90-811c-e94d6361189d",
        "colab": {
          "base_uri": "https://localhost:8080/",
          "height": 136
        }
      },
      "source": [
        "# Hyperparameters and initialization of model\n",
        "output_size = 4\n",
        "embedding_dim = 512\n",
        "hidden_dim = 512\n",
        "n_layers = 1\n",
        "net = Net(vocab_size, output_size, embedding_dim, hidden_dim, n_layers)\n",
        "print(net)"
      ],
      "execution_count": 0,
      "outputs": [
        {
          "output_type": "stream",
          "text": [
            "Net(\n",
            "  (embedding): Embedding(185873, 512)\n",
            "  (lstm): LSTM(512, 512, batch_first=True)\n",
            "  (dropout): Dropout(p=0.3, inplace=False)\n",
            "  (fc): Linear(in_features=512, out_features=4, bias=True)\n",
            "  (sig): Sigmoid()\n",
            ")\n"
          ],
          "name": "stdout"
        }
      ]
    },
    {
      "cell_type": "code",
      "metadata": {
        "id": "XDAQdTX6DXwG",
        "colab_type": "code",
        "outputId": "5872b00b-0893-40ad-c866-0e94acb8f62f",
        "colab": {
          "base_uri": "https://localhost:8080/",
          "height": 742
        }
      },
      "source": [
        "# loss and optimization functions\n",
        "lr=0.0005\n",
        "\n",
        "criterion = nn.MSELoss()\n",
        "optimizer = torch.optim.Adam(net.parameters(), lr=lr, weight_decay=1e-5)\n",
        "\n",
        "# Add learning rate decay\n",
        "scheduler = ReduceLROnPlateau(optimizer, mode='min', factor=0.1, patience=3, verbose=True)\n",
        "\n",
        "# training params\n",
        "epochs = 10\n",
        "\n",
        "print_every = 1000\n",
        "clip=5 # gradient clipping\n",
        "\n",
        "train_on_gpu = torch.cuda.is_available()\n",
        "# move model to GPU, if available\n",
        "if(train_on_gpu):\n",
        "    net.cuda()\n",
        "\n",
        "# Track loss\n",
        "training_loss, validation_loss = [], []\n",
        "loss_list = []\n",
        "\n",
        "net.train()\n",
        "# train for some number of epochs\n",
        "for e in range(epochs):\n",
        "\n",
        "    # Track loss\n",
        "    epoch_training_loss = 0\n",
        "    epoch_validation_loss = 0\n",
        "\n",
        "    # For validation set\n",
        "    val_h = net.init_hidden(batch_size)\n",
        "    val_losses = []\n",
        "    net.eval()\n",
        "    for inputs, labels in valid_loader:\n",
        "\n",
        "        # Creating new variables for the hidden state\n",
        "        val_h = tuple([each.data for each in val_h])\n",
        "\n",
        "        if(train_on_gpu):\n",
        "            inputs, labels = inputs.cuda(), labels.cuda()\n",
        "\n",
        "        inputs = inputs.type(torch.LongTensor)\n",
        "        output, val_h = net(inputs, val_h)\n",
        "\n",
        "        val_loss = criterion(output.squeeze(), labels.float())\n",
        "\n",
        "        epoch_validation_loss += val_loss.detach().cpu().data.numpy()\n",
        "    \n",
        "    net.train()\n",
        "\n",
        "    # initialize hidden state\n",
        "    h = net.init_hidden(batch_size)\n",
        "\n",
        "    # For each review in training set\n",
        "    counter = 0\n",
        "    for inputs, labels in train_loader:\n",
        "        counter += 1\n",
        "        if counter % print_every == 0:\n",
        "            print(counter,\"Train\")\n",
        "\n",
        "        if(train_on_gpu):\n",
        "            inputs = inputs.cuda()\n",
        "            labels = labels.cuda()\n",
        "\n",
        "        # Creating new variables for the hidden state\n",
        "        h = tuple([each.data for each in h])\n",
        "\n",
        "        # zero accumulated gradients\n",
        "        net.zero_grad()\n",
        "\n",
        "        # get the output from the model\n",
        "        inputs = inputs.type(torch.LongTensor)\n",
        "        output, h = net(inputs, h)\n",
        "\n",
        "        # calculate the loss and perform backprop\n",
        "        loss = criterion(output.squeeze(), labels.float())\n",
        "        loss.backward()\n",
        "        # `clip_grad_norm` helps prevent the exploding gradient problem\n",
        "        nn.utils.clip_grad_norm_(net.parameters(), clip)\n",
        "        optimizer.step()\n",
        "\n",
        "        #Save loss\n",
        "        epoch_training_loss += loss.detach().cpu().data.numpy()\n",
        "\n",
        "    print('Epoch: ', e+1,)\n",
        "    print('training loss:', epoch_training_loss / len(train_data)) # Divided by number of batches\n",
        "    print('validation loss:', epoch_validation_loss / len(valid_data))\n",
        "\n",
        "    scheduler.step(val_loss)\n",
        "\n",
        "    # Save loss for plot\n",
        "    training_loss.append(epoch_training_loss / len(train_data))\n",
        "    validation_loss.append(epoch_validation_loss / len(valid_data))\n",
        "\n",
        "# Plot training and validation loss of training and validation batches\n",
        "epoch = np.arange(len(training_loss))\n",
        "plt.figure()\n",
        "plt.plot(epoch, training_loss, 'r', label='Training loss',)\n",
        "plt.plot(epoch, validation_loss, 'b', label='Validation loss')\n",
        "plt.legend()\n",
        "plt.xlabel('Epoch'), plt.ylabel('loss')\n",
        "plt.show()"
      ],
      "execution_count": 0,
      "outputs": [
        {
          "output_type": "stream",
          "text": [
            "1000 Train\n",
            "2000 Train\n",
            "3000 Train\n",
            "Epoch:  1\n",
            "training loss: 0.0021039061944752016\n",
            "validation loss: 0.00499663663015031\n",
            "1000 Train\n",
            "2000 Train\n",
            "3000 Train\n",
            "Epoch:  2\n",
            "training loss: 0.0016534176826060406\n",
            "validation loss: 0.0019006678213675818\n",
            "1000 Train\n",
            "2000 Train\n",
            "3000 Train\n",
            "Epoch:  3\n",
            "training loss: 0.0015771095702841289\n",
            "validation loss: 0.0016376004083768318\n",
            "1000 Train\n",
            "2000 Train\n",
            "3000 Train\n",
            "Epoch:  4\n",
            "training loss: 0.0015314625482802002\n",
            "validation loss: 0.0015600691998802255\n",
            "1000 Train\n",
            "2000 Train\n",
            "3000 Train\n",
            "Epoch:  5\n",
            "training loss: 0.00149938338854873\n",
            "validation loss: 0.0015610827801324297\n"
          ],
          "name": "stdout"
        },
        {
          "output_type": "error",
          "ename": "KeyboardInterrupt",
          "evalue": "ignored",
          "traceback": [
            "\u001b[0;31m---------------------------------------------------------------------------\u001b[0m",
            "\u001b[0;31mKeyboardInterrupt\u001b[0m                         Traceback (most recent call last)",
            "\u001b[0;32m<ipython-input-14-d351113afde2>\u001b[0m in \u001b[0;36m<module>\u001b[0;34m()\u001b[0m\n\u001b[1;32m     88\u001b[0m \u001b[0;34m\u001b[0m\u001b[0m\n\u001b[1;32m     89\u001b[0m         \u001b[0;31m#Save loss\u001b[0m\u001b[0;34m\u001b[0m\u001b[0;34m\u001b[0m\u001b[0;34m\u001b[0m\u001b[0m\n\u001b[0;32m---> 90\u001b[0;31m         \u001b[0mepoch_training_loss\u001b[0m \u001b[0;34m+=\u001b[0m \u001b[0mloss\u001b[0m\u001b[0;34m.\u001b[0m\u001b[0mdetach\u001b[0m\u001b[0;34m(\u001b[0m\u001b[0;34m)\u001b[0m\u001b[0;34m.\u001b[0m\u001b[0mcpu\u001b[0m\u001b[0;34m(\u001b[0m\u001b[0;34m)\u001b[0m\u001b[0;34m.\u001b[0m\u001b[0mdata\u001b[0m\u001b[0;34m.\u001b[0m\u001b[0mnumpy\u001b[0m\u001b[0;34m(\u001b[0m\u001b[0;34m)\u001b[0m\u001b[0;34m\u001b[0m\u001b[0;34m\u001b[0m\u001b[0m\n\u001b[0m\u001b[1;32m     91\u001b[0m \u001b[0;34m\u001b[0m\u001b[0m\n\u001b[1;32m     92\u001b[0m     \u001b[0;31m#print('Epoch: ', e+1, 'with learning rate:', scheduler.get_lr())\u001b[0m\u001b[0;34m\u001b[0m\u001b[0;34m\u001b[0m\u001b[0;34m\u001b[0m\u001b[0m\n",
            "\u001b[0;31mKeyboardInterrupt\u001b[0m: "
          ]
        }
      ]
    },
    {
      "cell_type": "code",
      "metadata": {
        "id": "9nKv94OBYyXN",
        "colab_type": "code",
        "outputId": "39badcc7-7cb4-4274-aa3b-77e585ab6e16",
        "colab": {
          "base_uri": "https://localhost:8080/",
          "height": 34
        }
      },
      "source": [
        "# Get test data loss and accuracy\n",
        "\n",
        "# Function to convert nominal coding to rationg\n",
        "def scan_output(array):\n",
        "  rating = 1\n",
        "  for i in range(len(array)):\n",
        "    if array[i] > 0.5:\n",
        "      rating += 1\n",
        "    else:\n",
        "      break\n",
        "  return rating\n",
        "\n",
        "from sklearn.metrics import accuracy_score\n",
        "\n",
        "test_losses = [] # track loss\n",
        "pred_list = []\n",
        "target_list = []\n",
        "\n",
        "T = 0.5 # Cutoff for nominal coding\n",
        "\n",
        "# init hidden state\n",
        "h = net.init_hidden(batch_size)\n",
        "\n",
        "net.eval()\n",
        "# iterate over test data\n",
        "for inputs, labels in test_loader:\n",
        "\n",
        "    # Creating new variables for the hidden state\n",
        "    h = tuple([each.data for each in h])\n",
        "\n",
        "    if(train_on_gpu):\n",
        "        inputs, labels = inputs.cuda(), labels.cuda()\n",
        "    \n",
        "    # get predicted outputs\n",
        "    inputs = inputs.type(torch.LongTensor)\n",
        "    output, h = net(inputs, h)\n",
        "    \n",
        "    # calculate loss\n",
        "    test_loss = criterion(output.squeeze(), labels.float())\n",
        "    test_losses.append(test_loss.item())\n",
        "    \n",
        "    # convert to rating\n",
        "    output_array = output.cpu().data.numpy()\n",
        "    pred = np.apply_along_axis(scan_output, 1, output_array)\n",
        "    pred_list = np.concatenate((pred_list, pred))\n",
        "\n",
        "    # compare predictions to true label\n",
        "    target_array = labels.cpu().numpy()\n",
        "    target = np.apply_along_axis(scan_output, 1, target_array)\n",
        "    target_list = np.concatenate((target_list, target))\n",
        "\n",
        "# accuracy over all test data\n",
        "from sklearn.metrics import accuracy_score\n",
        "test_acc = accuracy_score(target_list,pred_list)\n",
        "#test_acc = np.mean(accuracy)\n",
        "print(\"Test accuracy: {:.3f}\".format(test_acc))"
      ],
      "execution_count": 0,
      "outputs": [
        {
          "output_type": "stream",
          "text": [
            "Test accuracy: 0.597\n"
          ],
          "name": "stdout"
        }
      ]
    }
  ]
}